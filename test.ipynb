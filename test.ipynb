{
 "cells": [
  {
   "cell_type": "code",
   "execution_count": 7,
   "metadata": {},
   "outputs": [
    {
     "name": "stdout",
     "output_type": "stream",
     "text": [
      "tensor(2.5000, grad_fn=<MeanBackward0>)\n",
      "tensor([0.2500, 0.2500, 0.2500, 0.2500])\n"
     ]
    }
   ],
   "source": [
    "from data_preprocess.cifar_loader import Loader\n",
    "from Wrapper.WrapperTrainer import WrapperTrainer as Trainer\n",
    "from models.resnet import ResnetExperiment, ResNet34\n",
    "from models.directly_embedding import DirectlyEmbedding\n",
    "import torch\n",
    "batch_size = 128\n",
    "\n",
    "a=torch.tensor([1.,5.,3.,1.],requires_grad=True)\n",
    "b=torch.mean(a)\n",
    "b.backward()\n",
    "print(b)\n",
    "print(a.grad)"
   ]
  }
 ],
 "metadata": {
  "kernelspec": {
   "display_name": "deep_learning",
   "language": "python",
   "name": "python3"
  },
  "language_info": {
   "codemirror_mode": {
    "name": "ipython",
    "version": 3
   },
   "file_extension": ".py",
   "mimetype": "text/x-python",
   "name": "python",
   "nbconvert_exporter": "python",
   "pygments_lexer": "ipython3",
   "version": "3.8.18"
  }
 },
 "nbformat": 4,
 "nbformat_minor": 2
}
